{
 "cells": [
  {
   "cell_type": "code",
   "execution_count": 1,
   "id": "e8b10d18-9a10-4a5d-87da-679982e7d346",
   "metadata": {},
   "outputs": [
    {
     "name": "stdout",
     "output_type": "stream",
     "text": [
      "Requirement already satisfied: pyodbc in c:\\users\\fpa\\proyectos\\asm-web\\myenv\\lib\\site-packages (4.0.39)\n"
     ]
    },
    {
     "name": "stderr",
     "output_type": "stream",
     "text": [
      "WARNING: You are using pip version 21.1.3; however, version 23.2.1 is available.\n",
      "You should consider upgrading via the 'c:\\users\\fpa\\proyectos\\asm-web\\myenv\\scripts\\python.exe -m pip install --upgrade pip' command.\n"
     ]
    }
   ],
   "source": [
    "! pip install pyodbc\n"
   ]
  },
  {
   "cell_type": "code",
   "execution_count": 2,
   "id": "ab7f273e-12bb-47f8-8556-0428bb3492f6",
   "metadata": {},
   "outputs": [],
   "source": [
    "import pyodbc\n",
    "import base64"
   ]
  },
  {
   "cell_type": "code",
   "execution_count": 3,
   "id": "a339b7ba-86ee-4dcb-b03d-76fd518eaed3",
   "metadata": {},
   "outputs": [
    {
     "name": "stdout",
     "output_type": "stream",
     "text": [
      "SELECT * FROM Usuarios\n"
     ]
    },
    {
     "data": {
      "text/plain": [
       "[('AdminNextret', 'f7ff4c6d1d24ffb0712f82f70ef5cc9e8ba2b650cb3f012c072b3726341f3f46', '967f7f0f8b931434')]"
      ]
     },
     "execution_count": 3,
     "metadata": {},
     "output_type": "execute_result"
    }
   ],
   "source": [
    "# Definir parámetros de conexión\n",
    "server = \"192.168.7.128\"  # e.g., \"localhost\" or \"your_server_name\\instance_name\"\n",
    "database = \"UserManagement\"\n",
    "username = \"sa\"\n",
    "password = \"P@ssw0rd\"\n",
    "\n",
    "# Definición de string de conexión\n",
    "connection_string = f\"DRIVER={{SQL Server}};SERVER={server};DATABASE={database};UID={username};PWD={password}\"\n",
    "\n",
    "# Conexión a la base de datos\n",
    "connection = pyodbc.connect(connection_string)\n",
    "\n",
    "# Apertura de conexión con SQL\n",
    "cursor = connection.cursor()\n",
    "\n",
    "# Si hemos guardado la contraseña codificada\n",
    "#pwd_cod = base64.b64encode(request.password.encode(\"utf-8\")).decode(\"utf-8\")\n",
    "\n",
    "#\n",
    "request_user = \"Fio\"\n",
    "query = f\"SELECT * FROM Usuarios\"\n",
    "print(query)\n",
    "cursor.execute(query)\n",
    "\n",
    "# \n",
    "result = cursor.fetchall()\n",
    "result"
   ]
  },
  {
   "cell_type": "code",
   "execution_count": 4,
   "id": "f76f8773-451d-4140-bbed-da30ecaa45ff",
   "metadata": {},
   "outputs": [],
   "source": [
    "import hashlib\n",
    "import os\n",
    "import secrets\n",
    "import pandas as pd\n",
    "\n",
    "\n",
    "def query_oracle_select(connection, query):\n",
    "    print(\"query\", query)\n",
    "    result_df = pd.read_sql(query, connection)\n",
    "\n",
    "    return result_df\n",
    "\n",
    "\n",
    "def query_oracle_insert(connection, query):\n",
    "    cursor = connection.cursor()\n",
    "    print(\"query\", query)\n",
    "    \n",
    "    cursor.execute(query)\n",
    "\n",
    "    # Commit the transaction\n",
    "    connection.commit()\n",
    "    cursor.close()\n",
    "\n",
    "\n",
    "def create_user(username, password):\n",
    "    # Crear hex aleatorio\n",
    "    salt_hex= secrets.token_hex(8)\n",
    "    salt = bytes.fromhex(salt_hex)\n",
    "    print(\"salt\", salt)\n",
    "    # Concatenar salt y contraseña\n",
    "    password_salt = password.encode() + salt\n",
    "    \n",
    "    # Crear hash\n",
    "    sha256_hash = hashlib.sha256(password_salt).hexdigest()\n",
    "    print(\"SHA-256 Hash with Salt:\", sha256_hash)\n",
    "    \n",
    "    query = f\"Insert into Usuarios (Username, PasswordHash, Salt) VALUES ('{username}', '{sha256_hash}' , '{salt_hex}');\"\n",
    "    query_oracle_insert(connection, query)\n",
    "    print(\"query_result\")\n",
    "\n",
    "    \n",
    "def create_roles(connection, username, roles):\n",
    "    values_query = [f\"('{username}', '{rol}')\"  for rol in roles]\n",
    "    values_query = (',').join(values_query)\n",
    "    query = f\"insert into Usuarios_roles (Username, Rol) VALUES {values_query} ;\"\n",
    "    query_oracle_insert(connection, query)\n",
    "    \n",
    "def create_tags(connection, username, tags):\n",
    "    values_query = [f\"('{username}', '{tag}')\"  for tag in tags]\n",
    "    values_query = (',').join(values_query)\n",
    "    query = f\"insert into Usuarios_tags (Username, Tag) VALUES {values_query} ;\"\n",
    "    query_oracle_insert(connection, query)\n",
    "    \n",
    "def check_user(connection, username, password):\n",
    "    cursor = connection.cursor()\n",
    "    \n",
    "    query = f\"Select * from Usuarios  where Username = '{username}'\"\n",
    "    query_result = query_oracle_select(connection, query)\n",
    "    #print(\"query_result\", query_result)\n",
    "    if(query_result.empty):\n",
    "        print(\"No existe el usuario!!\")\n",
    "    else:\n",
    "        print(\"Existe el usuario\")\n",
    "        password_hashed = query_result['PasswordHash'].iloc[0]\n",
    "        print(password_hashed)\n",
    "        salt_hex = query_result['Salt'].iloc[0]\n",
    "        print(salt_hex)\n",
    "        salt = bytes.fromhex(salt_hex)\n",
    "        \n",
    "        given_password_salt = password.encode() + salt\n",
    "    \n",
    "        # Crear hash\n",
    "        given_sha256_hash = hashlib.sha256(given_password_salt).hexdigest()\n",
    "        print(given_sha256_hash)\n",
    "        if given_sha256_hash == password_hashed:\n",
    "            query = f\"select * from Usuarios_tags where username = '{username}'\"\n",
    "            tags = query_oracle_select(connection, query)['Tag']\n",
    "            tags = list(tags)\n",
    "            \n",
    "            query = f\"select * from Usuarios_roles where username = '{username}'\"\n",
    "            roles = query_oracle_select(connection, query)['Rol']\n",
    "            roles = list(roles)\n",
    "            \n",
    "            user = {\"username\": username, \"roles\": roles, \"tags\": tags}\n",
    "\n",
    "            print(\"Contraseña correcta!\")\n",
    "        else:\n",
    "            print(\"Contraseña incorrecta!\")\n",
    "        \n",
    "        \n",
    "        "
   ]
  },
  {
   "cell_type": "code",
   "execution_count": 13,
   "id": "847764a3-95fb-4eb3-9a73-fe36a7cc02be",
   "metadata": {},
   "outputs": [
    {
     "name": "stdout",
     "output_type": "stream",
     "text": [
      "query Select * from Usuarios  where Username = 'AdminNextret'\n",
      "Existe el usuario\n",
      "f7ff4c6d1d24ffb0712f82f70ef5cc9e8ba2b650cb3f012c072b3726341f3f46\n",
      "967f7f0f8b931434\n",
      "f7ff4c6d1d24ffb0712f82f70ef5cc9e8ba2b650cb3f012c072b3726341f3f46\n",
      "Contraseña correcta!\n"
     ]
    }
   ],
   "source": [
    "check_user(connection, \"AdminNextret\", \"AdminNextret!\")"
   ]
  },
  {
   "cell_type": "code",
   "execution_count": 31,
   "id": "bf3dffbb-b6a9-4e51-bca0-1bda6839da50",
   "metadata": {},
   "outputs": [
    {
     "name": "stdout",
     "output_type": "stream",
     "text": [
      "query select * from Usuarios_tags where username = 'AdminNextret'\n"
     ]
    }
   ],
   "source": [
    "query = f\"select * from Usuarios_tags where username = '{username}'\"\n",
    "tags = query_oracle_select(connection, query)['Tag']\n",
    "tags = list(tags)"
   ]
  },
  {
   "cell_type": "code",
   "execution_count": 34,
   "id": "ab91733d-22db-4caa-884b-614c0033f1b4",
   "metadata": {},
   "outputs": [
    {
     "name": "stdout",
     "output_type": "stream",
     "text": [
      "query select * from Usuarios_roles where username = 'AdminNextret'\n"
     ]
    },
    {
     "data": {
      "text/plain": [
       "['admin']"
      ]
     },
     "execution_count": 34,
     "metadata": {},
     "output_type": "execute_result"
    }
   ],
   "source": [
    "query = f\"select * from Usuarios_roles where username = '{username}'\"\n",
    "roles = query_oracle_select(connection, query)['Rol']\n",
    "roles = list(roles)\n",
    "roles"
   ]
  },
  {
   "cell_type": "code",
   "execution_count": 6,
   "id": "f52fd3e9-9511-47f9-9128-f76fb47a50cf",
   "metadata": {},
   "outputs": [
    {
     "name": "stdout",
     "output_type": "stream",
     "text": [
      "salt b'\\x96\\x7f\\x7f\\x0f\\x8b\\x93\\x144'\n",
      "SHA-256 Hash with Salt: f7ff4c6d1d24ffb0712f82f70ef5cc9e8ba2b650cb3f012c072b3726341f3f46\n",
      "query Insert into Usuarios (Username, PasswordHash, Salt) VALUES ('AdminNextret', 'f7ff4c6d1d24ffb0712f82f70ef5cc9e8ba2b650cb3f012c072b3726341f3f46' , '967f7f0f8b931434');\n",
      "query_result <function query_oracle_insert at 0x000001A85609F9D0>\n"
     ]
    }
   ],
   "source": [
    "create_user(\"AdminNextret\", \"AdminNextret!\")"
   ]
  },
  {
   "cell_type": "code",
   "execution_count": 22,
   "id": "efa3f7df-b318-4c21-b0f5-459ebe4e4eaa",
   "metadata": {},
   "outputs": [
    {
     "name": "stdout",
     "output_type": "stream",
     "text": [
      "query insert into Usuarios_roles (Username, Rol) VALUES ('AdminNextret', 'admin') ;\n"
     ]
    }
   ],
   "source": [
    "create_roles(connection, \"AdminNextret\", [\"admin\"])"
   ]
  },
  {
   "cell_type": "code",
   "execution_count": 27,
   "id": "ecd51561-6a6d-4aff-8604-cc9063c9e748",
   "metadata": {},
   "outputs": [
    {
     "name": "stdout",
     "output_type": "stream",
     "text": [
      "query insert into Usuarios_tags (Username, Tag) VALUES ('AdminNextret', 'web'),('AdminNextret', 'asm'),('AdminNextret', 'lanprova') ;\n"
     ]
    }
   ],
   "source": [
    "create_tags(connection, \"AdminNextret\", [\"web\", \"asm\", \"lanprova\"])"
   ]
  },
  {
   "cell_type": "code",
   "execution_count": 19,
   "id": "abfef585-f4e5-4997-b0d8-c1720f4e3ce7",
   "metadata": {},
   "outputs": [
    {
     "data": {
      "text/plain": [
       "\"insert into Usuarios_roles (Username, Rol) VALUES ('f', 'admin') ;\""
      ]
     },
     "execution_count": 19,
     "metadata": {},
     "output_type": "execute_result"
    }
   ],
   "source": [
    "roles = ['admin']\n",
    "username = \"f\"\n",
    "roles_query = [f\"('{username}', '{rol}')\"  for rol in roles]\n",
    "roles_query = (',').join(roles_query)\n",
    "query = f\"insert into Usuarios_roles (Username, Rol) VALUES {roles_query} ;\"\n",
    "query"
   ]
  },
  {
   "cell_type": "code",
   "execution_count": 19,
   "id": "ae24956c-1457-43ff-8574-606089711f34",
   "metadata": {},
   "outputs": [
    {
     "name": "stdout",
     "output_type": "stream",
     "text": [
      "ÿý·mç]\u0010\u0005!",
      "#êí\u0017\n"
     ]
    },
    {
     "ename": "TypeError",
     "evalue": "can't concat str to bytes",
     "output_type": "error",
     "traceback": [
      "\u001b[1;31m---------------------------------------------------------------------------\u001b[0m",
      "\u001b[1;31mTypeError\u001b[0m                                 Traceback (most recent call last)",
      "Cell \u001b[1;32mIn [20], line 13\u001b[0m\n\u001b[0;32m     10\u001b[0m entered_password \u001b[38;5;241m=\u001b[39m \u001b[38;5;124m\"\u001b[39m\u001b[38;5;124mAdminNextret!\u001b[39m\u001b[38;5;124m\"\u001b[39m\n\u001b[0;32m     12\u001b[0m \u001b[38;5;66;03m# Concatenate the entered password and stored salt\u001b[39;00m\n\u001b[1;32m---> 13\u001b[0m password_salt \u001b[38;5;241m=\u001b[39m \u001b[43mentered_password\u001b[49m\u001b[38;5;241;43m.\u001b[39;49m\u001b[43mencode\u001b[49m\u001b[43m(\u001b[49m\u001b[43m)\u001b[49m\u001b[43m \u001b[49m\u001b[38;5;241;43m+\u001b[39;49m\u001b[43m \u001b[49m\u001b[43msalt\u001b[49m\n\u001b[0;32m     15\u001b[0m \u001b[38;5;66;03m# Create a SHA-256 hash of the entered password with the stored salt\u001b[39;00m\n\u001b[0;32m     16\u001b[0m entered_password_hash \u001b[38;5;241m=\u001b[39m hashlib\u001b[38;5;241m.\u001b[39msha256(password_salt)\u001b[38;5;241m.\u001b[39mhexdigest()\n",
      "\u001b[1;31mTypeError\u001b[0m: can't concat str to bytes"
     ]
    }
   ],
   "source": [
    "import hashlib\n",
    "import os\n",
    "\n",
    "# Simulated stored password hash and salt (you would fetch these from your database)\n",
    "stored_password_hash = \"2f04dc6c9b3d49f42c4c0494b66363c3f3263f74e759dc38b2260951cdf92218\"  # Replace with your actual stored hash\n",
    "salt = b'\\xff\\xfd\\xb7m\\xe7]\\x10\\x05!\\x9f\\x85#\\xea\\xed\\x81\\x17'  # Replace with your actual salt\n",
    "print(salt)\n",
    "\n",
    "# User-entered password to verify\n",
    "entered_password = \"AdminNextret!\"\n",
    "\n",
    "# Concatenate the entered password and stored salt\n",
    "password_salt = entered_password.encode() + salt\n",
    "\n",
    "# Create a SHA-256 hash of the entered password with the stored salt\n",
    "entered_password_hash = hashlib.sha256(password_salt).hexdigest()\n",
    "\n",
    "# Compare the entered password hash with the stored hash\n",
    "if entered_password_hash == stored_password_hash:\n",
    "    print(\"Password is correct!\")\n",
    "else:\n",
    "    print(\"Password is incorrect.\")"
   ]
  },
  {
   "cell_type": "code",
   "execution_count": 5,
   "id": "0c4fd969-7490-45dd-b1dc-4e199b81fec9",
   "metadata": {},
   "outputs": [
    {
     "name": "stdout",
     "output_type": "stream",
     "text": [
      "query Select * from Usuarios\n"
     ]
    },
    {
     "data": {
      "text/html": [
       "<div>\n",
       "<style scoped>\n",
       "    .dataframe tbody tr th:only-of-type {\n",
       "        vertical-align: middle;\n",
       "    }\n",
       "\n",
       "    .dataframe tbody tr th {\n",
       "        vertical-align: top;\n",
       "    }\n",
       "\n",
       "    .dataframe thead th {\n",
       "        text-align: right;\n",
       "    }\n",
       "</style>\n",
       "<table border=\"1\" class=\"dataframe\">\n",
       "  <thead>\n",
       "    <tr style=\"text-align: right;\">\n",
       "      <th></th>\n",
       "      <th>Username</th>\n",
       "      <th>PasswordHash</th>\n",
       "      <th>Salt</th>\n",
       "    </tr>\n",
       "  </thead>\n",
       "  <tbody>\n",
       "    <tr>\n",
       "      <th>0</th>\n",
       "      <td>AdminNextret</td>\n",
       "      <td>f7ff4c6d1d24ffb0712f82f70ef5cc9e8ba2b650cb3f01...</td>\n",
       "      <td>967f7f0f8b931434</td>\n",
       "    </tr>\n",
       "  </tbody>\n",
       "</table>\n",
       "</div>"
      ],
      "text/plain": [
       "       Username                                       PasswordHash  \\\n",
       "0  AdminNextret  f7ff4c6d1d24ffb0712f82f70ef5cc9e8ba2b650cb3f01...   \n",
       "\n",
       "               Salt  \n",
       "0  967f7f0f8b931434  "
      ]
     },
     "execution_count": 5,
     "metadata": {},
     "output_type": "execute_result"
    }
   ],
   "source": [
    "query = f\"Select * from Usuarios\"\n",
    "query_result = query_oracle_select(connection, query)\n",
    "query_result"
   ]
  },
  {
   "cell_type": "code",
   "execution_count": 8,
   "id": "9e996257-dc7e-4df0-89d3-25801751545e",
   "metadata": {},
   "outputs": [
    {
     "name": "stdout",
     "output_type": "stream",
     "text": [
      "Not empty\n",
      "query select * from Usuarios_tags where username = 'AdminNextret'\n",
      "tags ['web', 'asm', 'lanprova']\n",
      "query select * from Usuarios_roles where username = 'AdminNextret'\n",
      "roles ['admin']\n",
      "[{'username': 'AdminNextret', 'roles': ['admin'], 'tags': ['web', 'asm', 'lanprova']}]\n"
     ]
    }
   ],
   "source": [
    "if(not query_result.empty):\n",
    "    print(\"Not empty\")\n",
    "    users_list = []\n",
    "\n",
    "    for index, usuario in query_result.iterrows():\n",
    "        username = usuario['Username']\n",
    "        query = f\"select * from Usuarios_tags where username = '{username}'\"\n",
    "        tags = query_oracle_select(connection, query)['Tag']\n",
    "        tags = list(tags)\n",
    "        print(\"tags\", tags)\n",
    "        query = f\"select * from Usuarios_roles where username = '{username}'\"\n",
    "        roles = query_oracle_select(connection, query)['Rol']\n",
    "        roles = list(roles)\n",
    "        print(\"roles\", roles)\n",
    "\n",
    "        user = {\"username\": username, \"roles\": roles, \"tags\": tags}\n",
    "        users_list.append(user)\n",
    "        print(users_list)\n",
    "else: \n",
    "    user = {\"username\": \"\", \"roles\": [], \"tags\": []}\n",
    "    users_list.append(user)\n",
    "\n",
    "    #return users_list"
   ]
  }
 ],
 "metadata": {
  "kernelspec": {
   "display_name": "Python 3 (ipykernel)",
   "language": "python",
   "name": "python3"
  },
  "language_info": {
   "codemirror_mode": {
    "name": "ipython",
    "version": 3
   },
   "file_extension": ".py",
   "mimetype": "text/x-python",
   "name": "python",
   "nbconvert_exporter": "python",
   "pygments_lexer": "ipython3",
   "version": "3.9.6"
  }
 },
 "nbformat": 4,
 "nbformat_minor": 5
}
