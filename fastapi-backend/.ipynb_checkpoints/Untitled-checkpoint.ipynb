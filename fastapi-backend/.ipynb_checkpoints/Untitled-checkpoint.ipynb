{
 "cells": [
  {
   "cell_type": "code",
   "execution_count": 1,
   "id": "e8b10d18-9a10-4a5d-87da-679982e7d346",
   "metadata": {},
   "outputs": [
    {
     "name": "stdout",
     "output_type": "stream",
     "text": [
      "Requirement already satisfied: pyodbc in c:\\users\\fpa\\proyectos\\asm-web\\myenv\\lib\\site-packages (4.0.39)\n"
     ]
    },
    {
     "name": "stderr",
     "output_type": "stream",
     "text": [
      "WARNING: You are using pip version 21.1.3; however, version 23.2.1 is available.\n",
      "You should consider upgrading via the 'c:\\users\\fpa\\proyectos\\asm-web\\myenv\\scripts\\python.exe -m pip install --upgrade pip' command.\n"
     ]
    }
   ],
   "source": [
    "! pip install pyodbc\n"
   ]
  },
  {
   "cell_type": "code",
   "execution_count": 3,
   "id": "ab7f273e-12bb-47f8-8556-0428bb3492f6",
   "metadata": {},
   "outputs": [],
   "source": [
    "import pyodbc\n",
    "import base64"
   ]
  },
  {
   "cell_type": "code",
   "execution_count": 4,
   "id": "a339b7ba-86ee-4dcb-b03d-76fd518eaed3",
   "metadata": {},
   "outputs": [
    {
     "name": "stdout",
     "output_type": "stream",
     "text": [
      "SELECT * FROM Usuarios\n"
     ]
    },
    {
     "data": {
      "text/plain": [
       "[]"
      ]
     },
     "execution_count": 4,
     "metadata": {},
     "output_type": "execute_result"
    }
   ],
   "source": [
    "# Definir parámetros de conexión\n",
    "server = \"192.168.7.128\"  # e.g., \"localhost\" or \"your_server_name\\instance_name\"\n",
    "database = \"UserManagement\"\n",
    "username = \"sa\"\n",
    "password = \"P@ssw0rd\"\n",
    "\n",
    "# Definición de string de conexión\n",
    "connection_string = f\"DRIVER={{SQL Server}};SERVER={server};DATABASE={database};UID={username};PWD={password}\"\n",
    "\n",
    "# Conexión a la base de datos\n",
    "connection = pyodbc.connect(connection_string)\n",
    "\n",
    "# Apertura de conexión con SQL\n",
    "cursor = connection.cursor()\n",
    "\n",
    "# Si hemos guardado la contraseña codificada\n",
    "#pwd_cod = base64.b64encode(request.password.encode(\"utf-8\")).decode(\"utf-8\")\n",
    "\n",
    "#\n",
    "request_user = \"Fio\"\n",
    "query = f\"SELECT * FROM Usuarios\"\n",
    "print(query)\n",
    "cursor.execute(query)\n",
    "\n",
    "# \n",
    "result = cursor.fetchall()\n",
    "result"
   ]
  },
  {
   "cell_type": "code",
   "execution_count": null,
   "id": "8e4aa2ec-d98e-4512-bf45-a99d86acce39",
   "metadata": {},
   "outputs": [],
   "source": [
    "if result[0] == request.username:\n",
    "        print(\"Login successfull\")\n",
    "    else:\n",
    "        print(\"Usuario o contraseña incorrectos\")\n",
    "\n",
    "    # \n",
    "    cursor.close()\n",
    "    connection.close()"
   ]
  },
  {
   "cell_type": "code",
   "execution_count": 21,
   "id": "7242987c-35c3-40a3-aac8-3031136ed981",
   "metadata": {},
   "outputs": [
    {
     "ename": "AttributeError",
     "evalue": "module 'os' has no attribute 'random'",
     "output_type": "error",
     "traceback": [
      "\u001b[1;31m---------------------------------------------------------------------------\u001b[0m",
      "\u001b[1;31mAttributeError\u001b[0m                            Traceback (most recent call last)",
      "Cell \u001b[1;32mIn [25], line 6\u001b[0m\n\u001b[0;32m      4\u001b[0m \u001b[38;5;66;03m# Create a password and salt\u001b[39;00m\n\u001b[0;32m      5\u001b[0m password \u001b[38;5;241m=\u001b[39m \u001b[38;5;124m\"\u001b[39m\u001b[38;5;124mAdminNextret!\u001b[39m\u001b[38;5;124m\"\u001b[39m\n\u001b[1;32m----> 6\u001b[0m salt \u001b[38;5;241m=\u001b[39m \u001b[43mos\u001b[49m\u001b[38;5;241;43m.\u001b[39;49m\u001b[43mrandom\u001b[49m(\u001b[38;5;241m16\u001b[39m)  \u001b[38;5;66;03m# Generate a random 16-byte salt\u001b[39;00m\n\u001b[0;32m      7\u001b[0m \u001b[38;5;28mprint\u001b[39m(salt)\n\u001b[0;32m      8\u001b[0m \u001b[38;5;66;03m# Concatenate the password and salt\u001b[39;00m\n",
      "\u001b[1;31mAttributeError\u001b[0m: module 'os' has no attribute 'random'"
     ]
    }
   ],
   "source": [
    "import hashlib\n",
    "import os\n",
    "import secrets\n",
    "# Create a password and salt\n",
    "password = \"AdminNextret!\"\n",
    "salt = os.urandom(16)  # Generate a random 16-byte salt\n",
    "print(salt)\n",
    "# Concatenate the password and salt\n",
    "password_salt = password.encode() + salt\n",
    "\n",
    "# Create a SHA-256 hash of the password with salt\n",
    "sha256_hash = hashlib.sha256(password_salt).hexdigest()\n",
    "print(\"SHA-256 Hash with Salt:\", sha256_hash)\n",
    "\n"
   ]
  },
  {
   "cell_type": "code",
   "execution_count": 5,
   "id": "f76f8773-451d-4140-bbed-da30ecaa45ff",
   "metadata": {},
   "outputs": [],
   "source": [
    "import hashlib\n",
    "import os\n",
    "import secrets\n",
    "import pandas as pd\n",
    "\n",
    "\n",
    "def query_oracle_select(connection, query):\n",
    "    print(\"query\", query)\n",
    "    result_df = pd.read_sql(query, connection)\n",
    "\n",
    "    return result_df\n",
    "\n",
    "\n",
    "def query_oracle_insert(connection, query):\n",
    "    cursor = connection.cursor()\n",
    "    print(\"query\", query)\n",
    "    \n",
    "    cursor.execute(query)\n",
    "\n",
    "    # Commit the transaction\n",
    "    connection.commit()\n",
    "    cursor.close()\n",
    "\n",
    "\n",
    "def create_user(username, password):\n",
    "    # Crear hex aleatorio\n",
    "    salt_hex= secrets.token_hex(8)\n",
    "    salt = bytes.fromhex(salt_hex)\n",
    "    print(\"salt\", salt)\n",
    "    # Concatenar salt y contraseña\n",
    "    password_salt = password.encode() + salt\n",
    "    \n",
    "    # Crear hash\n",
    "    sha256_hash = hashlib.sha256(password_salt).hexdigest()\n",
    "    print(\"SHA-256 Hash with Salt:\", sha256_hash)\n",
    "    \n",
    "    query = f\"Insert into Usuarios (Username, PasswordHash, Salt) VALUES ('{username}', '{sha256_hash}' , '{salt_hex}');\"\n",
    "    query_oracle_insert(connection, query)\n",
    "    print(\"query_result\")\n",
    "\n",
    "    \n",
    "def check_user(connection, username, password):\n",
    "    cursor = connection.cursor()\n",
    "    \n",
    "    query = f\"Select * from Usuarios  where Username = '{username}'\"\n",
    "    query_result = query_to_oracle(connection, query)\n",
    "    #print(\"query_result\", query_result)\n",
    "    if(query_result.empty):\n",
    "        print(\"No existe el usuario!!\")\n",
    "    else:\n",
    "        print(\"Existe el usuario\")\n",
    "        password_hashed = query_result['PasswordHash'].iloc[0]\n",
    "        print(password_hashed)\n",
    "        salt_hex = query_result['Salt'].iloc[0]\n",
    "        print(salt_hex)\n",
    "        salt = bytes.fromhex(salt_hex)\n",
    "        \n",
    "        given_password_salt = password.encode() + salt\n",
    "    \n",
    "        # Crear hash\n",
    "        given_sha256_hash = hashlib.sha256(password_salt).hexdigest()\n",
    "        print(given_sha256_hash)\n",
    "        if given_sha256_hash == password_hashed:\n",
    "            print(\"Contraseña correcta!\")\n",
    "        else:\n",
    "            print(\"Contraseña incorrecta!\")\n",
    "        \n",
    "        \n",
    "        "
   ]
  },
  {
   "cell_type": "code",
   "execution_count": null,
   "id": "847764a3-95fb-4eb3-9a73-fe36a7cc02be",
   "metadata": {},
   "outputs": [],
   "source": [
    "check_user(connection, \"AdminNextret\", \"AdminNextret!\")\n"
   ]
  },
  {
   "cell_type": "code",
   "execution_count": 6,
   "id": "f52fd3e9-9511-47f9-9128-f76fb47a50cf",
   "metadata": {},
   "outputs": [
    {
     "name": "stdout",
     "output_type": "stream",
     "text": [
      "salt b'\\x96\\x7f\\x7f\\x0f\\x8b\\x93\\x144'\n",
      "SHA-256 Hash with Salt: f7ff4c6d1d24ffb0712f82f70ef5cc9e8ba2b650cb3f012c072b3726341f3f46\n",
      "query Insert into Usuarios (Username, PasswordHash, Salt) VALUES ('AdminNextret', 'f7ff4c6d1d24ffb0712f82f70ef5cc9e8ba2b650cb3f012c072b3726341f3f46' , '967f7f0f8b931434');\n",
      "query_result <function query_oracle_insert at 0x000001A85609F9D0>\n"
     ]
    }
   ],
   "source": [
    "create_user(\"AdminNextret\", \"AdminNextret!\")\n"
   ]
  },
  {
   "cell_type": "code",
   "execution_count": 33,
   "id": "abfef585-f4e5-4997-b0d8-c1720f4e3ce7",
   "metadata": {},
   "outputs": [
    {
     "name": "stdout",
     "output_type": "stream",
     "text": [
      "4f3de58b7031e71f\n"
     ]
    },
    {
     "data": {
      "text/plain": [
       "b'O=\\xe5\\x8bp1\\xe7\\x1f'"
      ]
     },
     "execution_count": 33,
     "metadata": {},
     "output_type": "execute_result"
    }
   ],
   "source": [
    "import secrets\n",
    "\n",
    "# Generate a random 64-bit hexadecimal string\n",
    "random_hex = secrets.token_hex(8)  # 8 bytes = 64 bits\n",
    "\n",
    "print(random_hex)\n",
    "salt = bytes.fromhex(random_hex)\n",
    "salt"
   ]
  },
  {
   "cell_type": "code",
   "execution_count": 19,
   "id": "ae24956c-1457-43ff-8574-606089711f34",
   "metadata": {},
   "outputs": [
    {
     "name": "stdout",
     "output_type": "stream",
     "text": [
      "ÿý·mç]\u0010\u0005!",
      "#êí\u0017\n"
     ]
    },
    {
     "ename": "TypeError",
     "evalue": "can't concat str to bytes",
     "output_type": "error",
     "traceback": [
      "\u001b[1;31m---------------------------------------------------------------------------\u001b[0m",
      "\u001b[1;31mTypeError\u001b[0m                                 Traceback (most recent call last)",
      "Cell \u001b[1;32mIn [20], line 13\u001b[0m\n\u001b[0;32m     10\u001b[0m entered_password \u001b[38;5;241m=\u001b[39m \u001b[38;5;124m\"\u001b[39m\u001b[38;5;124mAdminNextret!\u001b[39m\u001b[38;5;124m\"\u001b[39m\n\u001b[0;32m     12\u001b[0m \u001b[38;5;66;03m# Concatenate the entered password and stored salt\u001b[39;00m\n\u001b[1;32m---> 13\u001b[0m password_salt \u001b[38;5;241m=\u001b[39m \u001b[43mentered_password\u001b[49m\u001b[38;5;241;43m.\u001b[39;49m\u001b[43mencode\u001b[49m\u001b[43m(\u001b[49m\u001b[43m)\u001b[49m\u001b[43m \u001b[49m\u001b[38;5;241;43m+\u001b[39;49m\u001b[43m \u001b[49m\u001b[43msalt\u001b[49m\n\u001b[0;32m     15\u001b[0m \u001b[38;5;66;03m# Create a SHA-256 hash of the entered password with the stored salt\u001b[39;00m\n\u001b[0;32m     16\u001b[0m entered_password_hash \u001b[38;5;241m=\u001b[39m hashlib\u001b[38;5;241m.\u001b[39msha256(password_salt)\u001b[38;5;241m.\u001b[39mhexdigest()\n",
      "\u001b[1;31mTypeError\u001b[0m: can't concat str to bytes"
     ]
    }
   ],
   "source": [
    "import hashlib\n",
    "import os\n",
    "\n",
    "# Simulated stored password hash and salt (you would fetch these from your database)\n",
    "stored_password_hash = \"2f04dc6c9b3d49f42c4c0494b66363c3f3263f74e759dc38b2260951cdf92218\"  # Replace with your actual stored hash\n",
    "salt = b'\\xff\\xfd\\xb7m\\xe7]\\x10\\x05!\\x9f\\x85#\\xea\\xed\\x81\\x17'  # Replace with your actual salt\n",
    "print(salt)\n",
    "\n",
    "# User-entered password to verify\n",
    "entered_password = \"AdminNextret!\"\n",
    "\n",
    "# Concatenate the entered password and stored salt\n",
    "password_salt = entered_password.encode() + salt\n",
    "\n",
    "# Create a SHA-256 hash of the entered password with the stored salt\n",
    "entered_password_hash = hashlib.sha256(password_salt).hexdigest()\n",
    "\n",
    "# Compare the entered password hash with the stored hash\n",
    "if entered_password_hash == stored_password_hash:\n",
    "    print(\"Password is correct!\")\n",
    "else:\n",
    "    print(\"Password is incorrect.\")"
   ]
  }
 ],
 "metadata": {
  "kernelspec": {
   "display_name": "Python 3 (ipykernel)",
   "language": "python",
   "name": "python3"
  },
  "language_info": {
   "codemirror_mode": {
    "name": "ipython",
    "version": 3
   },
   "file_extension": ".py",
   "mimetype": "text/x-python",
   "name": "python",
   "nbconvert_exporter": "python",
   "pygments_lexer": "ipython3",
   "version": "3.9.6"
  }
 },
 "nbformat": 4,
 "nbformat_minor": 5
}
