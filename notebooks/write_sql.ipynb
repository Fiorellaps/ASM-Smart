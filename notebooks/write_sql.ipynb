{
 "cells": [
  {
   "cell_type": "code",
   "execution_count": 1,
   "id": "a6f777ce-ce0c-4302-a9c3-74279915f369",
   "metadata": {},
   "outputs": [
    {
     "name": "stdout",
     "output_type": "stream",
     "text": [
      "Requirement already satisfied: pyodbc in ./provas-env/lib/python3.9/site-packages (5.0.1)\n",
      "\u001b[33mWARNING: You are using pip version 21.2.3; however, version 23.2.1 is available.\n",
      "You should consider upgrading via the '/data/jupyter-lab/provas-env/bin/python -m pip install --upgrade pip' command.\u001b[0m\n",
      "Requirement already satisfied: kafka-python==2.0.2 in ./provas-env/lib/python3.9/site-packages (2.0.2)\n",
      "\u001b[33mWARNING: You are using pip version 21.2.3; however, version 23.2.1 is available.\n",
      "You should consider upgrading via the '/data/jupyter-lab/provas-env/bin/python -m pip install --upgrade pip' command.\u001b[0m\n",
      "Requirement already satisfied: pymssql==2.2.5 in ./provas-env/lib/python3.9/site-packages (2.2.5)\n",
      "\u001b[33mWARNING: You are using pip version 21.2.3; however, version 23.2.1 is available.\n",
      "You should consider upgrading via the '/data/jupyter-lab/provas-env/bin/python -m pip install --upgrade pip' command.\u001b[0m\n"
     ]
    }
   ],
   "source": [
    "! pip install pyodbc\n",
    "! pip install kafka-python==2.0.2\n",
    "!pip install pymssql==2.2.5"
   ]
  },
  {
   "cell_type": "code",
   "execution_count": 2,
   "id": "10181f10-ba60-40b7-a25d-e0f7b4166edc",
   "metadata": {},
   "outputs": [],
   "source": [
    "import json\n",
    "from kafka import KafkaConsumer\n",
    "import pymssql\n",
    "from datetime import datetime, timedelta\n"
   ]
  },
  {
   "cell_type": "code",
   "execution_count": 4,
   "id": "d467afa5-cccf-4e25-a256-ff1323b89f29",
   "metadata": {},
   "outputs": [],
   "source": [
    "kafka_topic = \"asm-sql-data\"\n",
    "consumer = KafkaConsumer(kafka_topic, bootstrap_servers=[\"10.210.4.117:9092\",\"10.210.4.118:9092\",\"10.210.4.119:9092\"],\n",
    "                         auto_offset_reset='earliest', enable_auto_commit=True,\n",
    "                         auto_commit_interval_ms=1000, group_id='asm-sql-data-241')"
   ]
  },
  {
   "cell_type": "code",
   "execution_count": null,
   "id": "c6e14ce9-af6c-4e54-9d9e-926715cb6f45",
   "metadata": {},
   "outputs": [],
   "source": [
    "for message in consumer:\n",
    "        message_data = json.loads(message.value.decode('utf-8'))\n",
    "        id_test = message_data['idTest']\n",
    "        id_paso = message_data['idPaso']\n",
    "        id_robot = message_data['idRobot']\n",
    "        fecha_procesado = message_data['fechaProcesado']\n",
    "        error_sel = message_data['errorSel'].replace(\"'\", '\"').replace(\"]\", \"\")\n",
    "        element_error = message_data['elementError'].replace(\"'\", '\"').replace(\"]\", \"\")\n",
    "        print(\"element_error\", element_error)\n",
    "        datetime_object = datetime.strptime(fecha_procesado, '%Y-%m-%d %H:%M:%S')\n",
    "    \n",
    "        # Subtract 2 hours\n",
    "        modified_datetime = datetime_object - timedelta(hours=2)\n",
    "        \n",
    "        # Convert back to the desired format\n",
    "        fecha_procesado_formateada = modified_datetime.strftime('%Y-%m-%d %H:%M:%S')\n",
    "        \n",
    "        print(fecha_procesado_formateada)\n",
    "        query = f\"select * from Resultado WHERE idTest={id_test} AND idRobot={id_robot} AND idPaso={id_paso} AND fecha='{fecha_procesado_formateada}'\"\n",
    "        cursor.execute(query)\n",
    "        result = cursor.fetchall()\n",
    "        if (len(result) == 1):\n",
    "            query_update = f\"UPDATE Resultado SET elementError='{element_error}', errorSel='{error_sel}' WHERE idTest={id_test} AND idRobot={id_robot} AND idPaso={id_paso} AND fecha='{fecha_procesado_formateada}'\"\n",
    "            print(\"query update\", query_update)\n",
    "            cursor.execute(query)\n",
    "            conn.commit()\n",
    "        else:\n",
    "            print(\"Error: más de una coincidencia o ninguna en base de datos para la query:\", query)\n"
   ]
  },
  {
   "cell_type": "code",
   "execution_count": 3,
   "id": "2dfda339-7401-4ff1-8396-2b671f2d01b5",
   "metadata": {},
   "outputs": [
    {
     "name": "stdout",
     "output_type": "stream",
     "text": [
      "result [{'idResultado': 227948406, 'Fecha': datetime.datetime(2021, 9, 1, 0, 0, 3), 'idRobot': 32, 'idTest': 303, 'idPaso': 2, 'idGrupTest': 13295, 'TiempoPaso': 3.571000099182129, 'PathError': None, 'idError': 0, 'errorMsg': None, 'harFile': None, 'urlFailed': None, 'pathPreError': None, 'pathVideo': None, 'idWl': None, 'errorSel': None, 'elementError': None}, {'idResultado': 227948415, 'Fecha': datetime.datetime(2021, 9, 1, 0, 0, 5), 'idRobot': 777, 'idTest': 20008, 'idPaso': 1, 'idGrupTest': 92866, 'TiempoPaso': 0.4339999854564667, 'PathError': None, 'idError': 0, 'errorMsg': None, 'harFile': None, 'urlFailed': None, 'pathPreError': None, 'pathVideo': None, 'idWl': None, 'errorSel': None, 'elementError': None}, {'idResultado': 227948419, 'Fecha': datetime.datetime(2021, 9, 1, 0, 0, 12), 'idRobot': 777, 'idTest': 20006, 'idPaso': 1, 'idGrupTest': 92867, 'TiempoPaso': 0.41200000047683716, 'PathError': None, 'idError': 0, 'errorMsg': None, 'harFile': None, 'urlFailed': None, 'pathPreError': None, 'pathVideo': None, 'idWl': None, 'errorSel': None, 'elementError': None}, {'idResultado': 227948420, 'Fecha': datetime.datetime(2021, 9, 1, 0, 0, 9), 'idRobot': 888, 'idTest': 40003, 'idPaso': 1, 'idGrupTest': 273148, 'TiempoPaso': 0.9120000004768372, 'PathError': None, 'idError': 0, 'errorMsg': None, 'harFile': None, 'urlFailed': None, 'pathPreError': None, 'pathVideo': None, 'idWl': None, 'errorSel': None, 'elementError': None}, {'idResultado': 227948421, 'Fecha': datetime.datetime(2021, 9, 1, 0, 0, 1), 'idRobot': 42, 'idTest': 701, 'idPaso': 1, 'idGrupTest': 4704, 'TiempoPaso': 3.3269999027252197, 'PathError': None, 'idError': 0, 'errorMsg': None, 'harFile': None, 'urlFailed': None, 'pathPreError': None, 'pathVideo': None, 'idWl': None, 'errorSel': None, 'elementError': None}]\n"
     ]
    }
   ],
   "source": [
    "# Definir parámetros de conexión\n",
    "server = \"192.168.7.110\"  # e.g., \"localhost\" or \"your_server_name\\instance_name\"\n",
    "database = \"Selenium\"\n",
    "username = \"sa\"\n",
    "password = \"P@ssw0rd\"\n",
    "\n",
    "# Conexión a la base de datos\n",
    "conn = pymssql.connect(server=server,user=username,password=password,database=database,as_dict=True,tds_version='7.0')\n",
    "# Apertura de conexión con SQL\n",
    "cursor = conn.cursor()\n",
    "\n",
    "# Execute a sample query\n",
    "cursor.execute('SELECT TOP 5 * FROM Resultado')  # Replace YourTableName with an actual table name\n",
    "result = cursor.fetchall()\n",
    "print(\"result\", result)"
   ]
  },
  {
   "cell_type": "code",
   "execution_count": null,
   "id": "bc9ef986",
   "metadata": {},
   "outputs": [],
   "source": [
    "for message in consumer:\n",
    "    try:\n",
    "        message_data = json.loads(message.value.decode('utf-8'))\n",
    "        id_test = message_data['idTest']\n",
    "        id_paso = message_data['idPaso']\n",
    "        id_robot = message_data['idRobot']\n",
    "        fecha_procesado = message_data['fecha']\n",
    "        fecha_procesado = message_data['fecha']\n",
    "        datetime_object = datetime.strptime(fecha_procesado, '%Y-%m-%d %H:%M:%S')\n",
    "\n",
    "        # Subtract 2 hours\n",
    "        modified_datetime = datetime_object - timedelta(hours=2)\n",
    "        \n",
    "        # Convert back to the desired format\n",
    "        fecha_procesado_formateada = modified_datetime.strftime('%Y-%m-%d %H:%M:%S')\n",
    "        \n",
    "        print(formatted_date)\n",
    "        query = f\"select * from Resultado WHERE idTest={id_test} AND idRobot={id_robot} AND idPaso={id_paso} AND fecha='{fecha_procesado}'\"\n",
    "        print(\"query\", query)\n",
    "        cursor.execute(query)\n",
    "        \n",
    "        result = cursor.fetchall()\n",
    "        print(\"!!!!result\", result)\n",
    "        \n",
    "    except:\n",
    "        print(\"----error\", message.timestamp)\n",
    "        #print(\"value\", message.value)\n"
   ]
  },
  {
   "cell_type": "code",
   "execution_count": null,
   "id": "844e419c-1029-41ad-84a9-b4ad13c0a851",
   "metadata": {},
   "outputs": [],
   "source": [
    "consumer.close()\n",
    "cursor.close()"
   ]
  },
  {
   "cell_type": "code",
   "execution_count": null,
   "id": "68d3c4d7-5ec9-4af2-b6b9-1091e4c6b186",
   "metadata": {},
   "outputs": [],
   "source": [
    "!pip install confluent-kafka\n"
   ]
  },
  {
   "cell_type": "code",
   "execution_count": null,
   "id": "5a81ce3c-a6e4-47d5-8347-4e2aa6caf9c3",
   "metadata": {},
   "outputs": [],
   "source": [
    "from confluent_kafka import Consumer, KafkaException\n",
    "\n",
    "conf = {\n",
    "    'bootstrap.servers': '10.210.4.117:9092,10.210.4.118:9092,10.210.4.119:9092',  # Replace with your Kafka broker's address\n",
    "    'group.id': 'asm-sql-data-1',\n",
    "    'auto.offset.reset': 'earliest'\n",
    "}\n",
    "\n",
    "consumer = Consumer(conf)\n",
    "\n",
    "# Subscribe to your Kafka topic\n",
    "consumer.subscribe(['asm-sql-data'])"
   ]
  },
  {
   "cell_type": "code",
   "execution_count": null,
   "id": "8a8efb8b-fc27-4adb-a35f-60223d280695",
   "metadata": {},
   "outputs": [],
   "source": [
    "\n",
    "\n",
    "try:\n",
    "    while True:\n",
    "        msg = consumer.poll(1.0)\n",
    "\n",
    "        if msg is None:\n",
    "            continue\n",
    "        if msg.error():\n",
    "            if msg.error().code() == KafkaException._PARTITION_EOF:\n",
    "                continue\n",
    "            else:\n",
    "                print(msg.error())\n",
    "                break\n",
    "\n",
    "        print('Received message: {}'.format(msg.value().decode('utf-8')))\n",
    "\n",
    "except KeyboardInterrupt:\n",
    "    pass\n",
    "\n",
    "finally:\n",
    "    consumer.close()"
   ]
  },
  {
   "cell_type": "code",
   "execution_count": null,
   "id": "432e270c-8ac0-4b8a-9050-2c4bf859df89",
   "metadata": {},
   "outputs": [],
   "source": []
  }
 ],
 "metadata": {
  "kernelspec": {
   "display_name": "Python 3 (ipykernel)",
   "language": "python",
   "name": "python3"
  },
  "language_info": {
   "codemirror_mode": {
    "name": "ipython",
    "version": 3
   },
   "file_extension": ".py",
   "mimetype": "text/x-python",
   "name": "python",
   "nbconvert_exporter": "python",
   "pygments_lexer": "ipython3",
   "version": "3.9.16"
  }
 },
 "nbformat": 4,
 "nbformat_minor": 5
}
